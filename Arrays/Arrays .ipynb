{
 "cells": [
  {
   "cell_type": "markdown",
   "id": "59039519",
   "metadata": {},
   "source": [
    "Problem Description:  \n",
    "Given an integer array nums and an integer k, return the k most frequent elements. You may return the answer in any order.\n",
    "\n",
    " Leetcode URL: https://leetcode.com/problems/top-k-frequent-elements/description/"
   ]
  },
  {
   "cell_type": "code",
   "execution_count": 16,
   "id": "214ecb37",
   "metadata": {},
   "outputs": [
    {
     "name": "stdout",
     "output_type": "stream",
     "text": [
      "['1', '2']\n"
     ]
    }
   ],
   "source": [
    "def topKFrequent( nums, k2):\n",
    "        uniq = set(nums)\n",
    "\n",
    "        dicti = { str(item):0 for item in uniq }\n",
    "       \n",
    "        for item in nums:\n",
    "            dicti[str(item)]+=1\n",
    "            \n",
    "        res = {k: v for k, v in sorted(dicti.items(), key=lambda item: item[1], reverse=True)}\n",
    "        return(list(res)[:k2])\n",
    "            \n",
    "nums = [1,1,1,2,2,3]\n",
    "k = 2\n",
    "print(topKFrequent(nums, k))"
   ]
  },
  {
   "cell_type": "markdown",
   "id": "d212df4f",
   "metadata": {},
   "source": [
    "Problem Description: \n",
    "\n",
    "A matrix diagonal is a diagonal line of cells starting from some cell in either the topmost row or leftmost column and going in the bottom-right direction until reaching the matrix's end. For example, the matrix diagonal starting from mat[2][0], where mat is a 6 x 3 matrix, includes cells mat[2][0], mat[3][1], and mat[4][2].\n",
    "\n",
    "Given an m x n matrix mat of integers, sort each matrix diagonal in ascending order and return the resulting matrix.\n",
    "\n",
    "Leetcode URL: https://leetcode.com/problems/sort-the-matrix-diagonally/description/\n",
    " "
   ]
  },
  {
   "cell_type": "code",
   "execution_count": 23,
   "id": "92b201c7",
   "metadata": {},
   "outputs": [
    {
     "name": "stdout",
     "output_type": "stream",
     "text": [
      "[[3, 3, 1, 1], [2, 2, 1, 2], [1, 1, 1, 2]]\n",
      "[[1, 1, 1, 1], [1, 2, 2, 2], [1, 2, 3, 3]]\n"
     ]
    }
   ],
   "source": [
    "def diagonalSort( mat):\n",
    "    rows = len(mat)\n",
    "    cols = len(mat[0])\n",
    "\n",
    "    diagonals = []\n",
    "    for i in range(rows):\n",
    "        j=0\n",
    "        diag=[]\n",
    "        while i<rows and j<cols:\n",
    "            diag.append([i,j])\n",
    "            i+=1\n",
    "            j+=1\n",
    "        diagonals.append(diag)\n",
    "\n",
    "    for j in range(1,cols):\n",
    "        i =0\n",
    "        diag=[]\n",
    "        while i<rows and j<cols:\n",
    "            diag.append([i,j])\n",
    "            i+=1\n",
    "            j+=1\n",
    "        diagonals.append(diag)\n",
    "        \n",
    "    def sortD(mat, diag):\n",
    "        unsorted_diag = []\n",
    "        for idx in diag:\n",
    "            unsorted_diag.append(mat[idx[0]][idx[1]])\n",
    "        sorted_diag = sorted(unsorted_diag)\n",
    "        \n",
    "        for d in range(len(diag)):\n",
    "            i = diag[d][0]\n",
    "            j = diag[d][1]\n",
    "            \n",
    "            mat[i][j] = sorted_diag[d]\n",
    "        return\n",
    "    \n",
    "    \n",
    "    for items in diagonals:\n",
    "        sortD(mat,items)\n",
    "    return mat\n",
    "    \n",
    "mat = [[3,3,1,1],[2,2,1,2],[1,1,1,2]]\n",
    "print(mat)\n",
    "print(diagonalSort(mat))\n",
    "        \n",
    "    "
   ]
  },
  {
   "cell_type": "markdown",
   "id": "c6737fbd",
   "metadata": {},
   "source": [
    "Problem Description:\n",
    "\n",
    "Given an integer array nums, return an array answer such that answer[i] is equal to the product of all the elements of nums except nums[i].\n",
    "\n",
    "The product of any prefix or suffix of nums is guaranteed to fit in a 32-bit integer.\n",
    "\n",
    "You must write an algorithm that runs in O(n) time and without using the division operation.\n",
    "\n",
    "Leetcode URL : https://leetcode.com/problems/product-of-array-except-self/description/"
   ]
  },
  {
   "cell_type": "code",
   "execution_count": 28,
   "id": "568b9110",
   "metadata": {},
   "outputs": [
    {
     "name": "stdout",
     "output_type": "stream",
     "text": [
      "[24, 12, 8, 6]\n"
     ]
    }
   ],
   "source": [
    "def productExceptSelf(nums):\n",
    "    zero_count= nums.count(0)\n",
    "    if zero_count > 1:\n",
    "        return [0 for i in range (len(nums))]\n",
    "    \n",
    "    res = []\n",
    "    prod = 1\n",
    "    \n",
    "    for i in nums:\n",
    "        if i == 0:\n",
    "            continue\n",
    "        prod = prod*i\n",
    "        \n",
    "    if zero_count ==1:\n",
    "        for i in nums:\n",
    "            if i==0:\n",
    "                res.append(prod)\n",
    "            else:\n",
    "                res.append(0)\n",
    "                \n",
    "    elif zero_count == 0:\n",
    "        for i in nums:\n",
    "            res.append(int(prod/i))\n",
    "                \n",
    "    \n",
    "    return res\n",
    "nums = [1,2,3,4]\n",
    "\n",
    "nums2 = [-1,1,0,-3,3]\n",
    "print(productExceptSelf(nums))"
   ]
  }
 ],
 "metadata": {
  "kernelspec": {
   "display_name": "Python 3 (ipykernel)",
   "language": "python",
   "name": "python3"
  },
  "language_info": {
   "codemirror_mode": {
    "name": "ipython",
    "version": 3
   },
   "file_extension": ".py",
   "mimetype": "text/x-python",
   "name": "python",
   "nbconvert_exporter": "python",
   "pygments_lexer": "ipython3",
   "version": "3.9.13"
  }
 },
 "nbformat": 4,
 "nbformat_minor": 5
}
